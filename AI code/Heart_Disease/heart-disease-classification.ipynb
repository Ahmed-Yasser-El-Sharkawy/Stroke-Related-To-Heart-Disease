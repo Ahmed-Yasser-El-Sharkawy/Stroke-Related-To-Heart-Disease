{
 "cells": [
  {
   "cell_type": "markdown",
   "metadata": {},
   "source": [
    "##  Importing necessary libraries"
   ]
  },
  {
   "cell_type": "code",
   "execution_count": 1,
   "metadata": {
    "_cell_guid": "b1076dfc-b9ad-4769-8c92-a6c4dae69d19",
    "_uuid": "8f2839f25d086af736a60e9eeb907d3b93b6e0e5",
    "execution": {
     "iopub.execute_input": "2025-03-01T11:44:24.008928Z",
     "iopub.status.busy": "2025-03-01T11:44:24.008562Z",
     "iopub.status.idle": "2025-03-01T11:44:27.855258Z",
     "shell.execute_reply": "2025-03-01T11:44:27.854358Z",
     "shell.execute_reply.started": "2025-03-01T11:44:24.008900Z"
    },
    "trusted": true
   },
   "outputs": [],
   "source": [
    "import pandas as pd\n",
    "import numpy as np\n",
    "import seaborn as sns\n",
    "import matplotlib.pyplot as plt\n",
    "import plotly.graph_objects as go\n",
    "import plotly.express as px\n",
    "\n",
    "from sklearn.preprocessing import LabelEncoder\n",
    "from sklearn.preprocessing import RobustScaler\n",
    "from sklearn.preprocessing import StandardScaler, OneHotEncoder\n",
    "\n",
    "\n",
    "from sklearn.model_selection import train_test_split\n",
    "from sklearn.model_selection import StratifiedShuffleSplit\n",
    "\n",
    "from sklearn.linear_model import LogisticRegression\n",
    "from sklearn.tree import DecisionTreeClassifier\n",
    "from sklearn.ensemble import RandomForestClassifier, GradientBoostingClassifier, AdaBoostClassifier\n",
    "from sklearn.svm import SVC\n",
    "from sklearn.neighbors import KNeighborsClassifier\n",
    "from sklearn.naive_bayes import GaussianNB\n",
    "from xgboost import XGBClassifier\n",
    "\n",
    "from sklearn.metrics import accuracy_score, precision_score, recall_score, f1_score, confusion_matrix\n",
    "from xgboost import XGBClassifier\n",
    "from sklearn.ensemble import AdaBoostClassifier, VotingClassifier\n",
    "\n",
    "from imblearn.under_sampling import RandomUnderSampler\n",
    "from imblearn.over_sampling import RandomOverSampler\n",
    "from imblearn.over_sampling import SMOTE\n",
    "\n",
    "import joblib\n",
    "import pickle  \n",
    "\n",
    "import warnings\n",
    "warnings.filterwarnings(\"ignore\")"
   ]
  },
  {
   "cell_type": "markdown",
   "metadata": {},
   "source": [
    "# data describtion\n",
    "age - age of the person (in years)\n",
    "\n",
    "sex - gender of the person (1 = male; 0 = female)\n",
    "\n",
    "chest_pain_type - type of the chest pain\n",
    "        Value 0: typical angina\n",
    "        Value 1: atypical angina\n",
    "        Value 2: non-anginal pain\n",
    "        Value 3: asymptomatic\n",
    "        \n",
    "resting_bp - blood pressure while resting (in mm Hg on admission to the hospital)\n",
    "\n",
    "cholesterol - A person's serum cholesterol in mg/dl\n",
    "\n",
    "fasting_blood_sugar - Blood sugar while fasting & [ > 120 mg/dl ] (1 = true; 0 = false)\n",
    "\n",
    "restecg - ECG (electrocardiographic ) while resting\n",
    "        Value 0: normal\n",
    "        Value 1: having ST-T wave abnormality (T wave inversions and/or ST elevation or depression of > 0.05 mV)\n",
    "        Value 2: showing probable or definite left ventricular hypertrophy by Estes' criteria\n",
    "\n",
    "max_hr - Maximum heart rate achieved\n",
    "\n",
    "exang - exercise-induced angina (1 = yes; 0 = no)\n",
    "Exercise-induced angina (AP) is a common complaint of cardiac patients, particularly when exercising in the cold. It usually happens during activity (exertion) and goes away with rest or angina medication. For example, pain, when walking uphill or in cold weather, maybe angina. Stable angina pain is predictable and usually similar to previous episodes of chest pain.\n",
    "\n",
    "oldpeak - ST depression induced by exercise relative to rest\n",
    "Exercise-induced ST segment depression is considered a reliable ECG finding for the diagnosis of obstructive coronary atherosclerosis. ST-segment depression is believed as a common electrocardiographic sign of myocardial ischemia during exercise testing. Ischemia is generally defined as oxygen deprivation due to reduced perfusion. ST segment depression less than 0.5 mm is accepted in all leads. ST segment depression 0.5 mm or more is considered pathological.\n",
    "\n",
    "slope - the slope of the peak exercise ST segment\n",
    "        Value 0: upsloping\n",
    "        Value 1: flat\n",
    "        Value 2: downsloping\n",
    "\n",
    "num_major_vessels - no. of major vessels (0-3) colored by flourosopy\n",
    "\n",
    "thal - thalassemia\n",
    "    0: normal\n",
    "    1: fixed defect\n",
    "    2: reversable defect\n",
    "People with thalassemia can get too much iron in their bodies, either from the disease or from frequent blood transfusions. Too much iron can result in damage to your heart, liver & endocrine system, which includes hormone-producing glands that regulate processes throughout your body.\n",
    "\n",
    "target :\n",
    "    0 = no disease\n",
    "    1 = disease"
   ]
  },
  {
   "cell_type": "markdown",
   "metadata": {},
   "source": [
    "# Data Loading"
   ]
  },
  {
   "cell_type": "code",
   "execution_count": 2,
   "metadata": {
    "execution": {
     "iopub.execute_input": "2025-03-01T11:44:27.857555Z",
     "iopub.status.busy": "2025-03-01T11:44:27.856920Z",
     "iopub.status.idle": "2025-03-01T11:44:27.907907Z",
     "shell.execute_reply": "2025-03-01T11:44:27.906821Z",
     "shell.execute_reply.started": "2025-03-01T11:44:27.857518Z"
    },
    "trusted": true
   },
   "outputs": [
    {
     "data": {
      "text/html": [
       "<div>\n",
       "<style scoped>\n",
       "    .dataframe tbody tr th:only-of-type {\n",
       "        vertical-align: middle;\n",
       "    }\n",
       "\n",
       "    .dataframe tbody tr th {\n",
       "        vertical-align: top;\n",
       "    }\n",
       "\n",
       "    .dataframe thead th {\n",
       "        text-align: right;\n",
       "    }\n",
       "</style>\n",
       "<table border=\"1\" class=\"dataframe\">\n",
       "  <thead>\n",
       "    <tr style=\"text-align: right;\">\n",
       "      <th></th>\n",
       "      <th>age</th>\n",
       "      <th>sex</th>\n",
       "      <th>chest_pain_type</th>\n",
       "      <th>resting_bp</th>\n",
       "      <th>cholestoral</th>\n",
       "      <th>fasting_blood_sugar</th>\n",
       "      <th>restecg</th>\n",
       "      <th>max_hr</th>\n",
       "      <th>exang</th>\n",
       "      <th>oldpeak</th>\n",
       "      <th>slope</th>\n",
       "      <th>num_major_vessels</th>\n",
       "      <th>thal</th>\n",
       "      <th>target</th>\n",
       "    </tr>\n",
       "  </thead>\n",
       "  <tbody>\n",
       "    <tr>\n",
       "      <th>0</th>\n",
       "      <td>63</td>\n",
       "      <td>1</td>\n",
       "      <td>3</td>\n",
       "      <td>145</td>\n",
       "      <td>233</td>\n",
       "      <td>1</td>\n",
       "      <td>0</td>\n",
       "      <td>150</td>\n",
       "      <td>0</td>\n",
       "      <td>2.3</td>\n",
       "      <td>0</td>\n",
       "      <td>0</td>\n",
       "      <td>1</td>\n",
       "      <td>1</td>\n",
       "    </tr>\n",
       "    <tr>\n",
       "      <th>1</th>\n",
       "      <td>37</td>\n",
       "      <td>1</td>\n",
       "      <td>2</td>\n",
       "      <td>130</td>\n",
       "      <td>250</td>\n",
       "      <td>0</td>\n",
       "      <td>1</td>\n",
       "      <td>187</td>\n",
       "      <td>0</td>\n",
       "      <td>3.5</td>\n",
       "      <td>0</td>\n",
       "      <td>0</td>\n",
       "      <td>2</td>\n",
       "      <td>1</td>\n",
       "    </tr>\n",
       "    <tr>\n",
       "      <th>2</th>\n",
       "      <td>41</td>\n",
       "      <td>0</td>\n",
       "      <td>1</td>\n",
       "      <td>130</td>\n",
       "      <td>204</td>\n",
       "      <td>0</td>\n",
       "      <td>0</td>\n",
       "      <td>172</td>\n",
       "      <td>0</td>\n",
       "      <td>1.4</td>\n",
       "      <td>2</td>\n",
       "      <td>0</td>\n",
       "      <td>2</td>\n",
       "      <td>1</td>\n",
       "    </tr>\n",
       "    <tr>\n",
       "      <th>3</th>\n",
       "      <td>56</td>\n",
       "      <td>1</td>\n",
       "      <td>1</td>\n",
       "      <td>120</td>\n",
       "      <td>236</td>\n",
       "      <td>0</td>\n",
       "      <td>1</td>\n",
       "      <td>178</td>\n",
       "      <td>0</td>\n",
       "      <td>0.8</td>\n",
       "      <td>2</td>\n",
       "      <td>0</td>\n",
       "      <td>2</td>\n",
       "      <td>1</td>\n",
       "    </tr>\n",
       "    <tr>\n",
       "      <th>4</th>\n",
       "      <td>57</td>\n",
       "      <td>0</td>\n",
       "      <td>0</td>\n",
       "      <td>120</td>\n",
       "      <td>354</td>\n",
       "      <td>0</td>\n",
       "      <td>1</td>\n",
       "      <td>163</td>\n",
       "      <td>1</td>\n",
       "      <td>0.6</td>\n",
       "      <td>2</td>\n",
       "      <td>0</td>\n",
       "      <td>2</td>\n",
       "      <td>1</td>\n",
       "    </tr>\n",
       "  </tbody>\n",
       "</table>\n",
       "</div>"
      ],
      "text/plain": [
       "   age  sex  chest_pain_type  resting_bp  cholestoral  fasting_blood_sugar  \\\n",
       "0   63    1                3         145          233                    1   \n",
       "1   37    1                2         130          250                    0   \n",
       "2   41    0                1         130          204                    0   \n",
       "3   56    1                1         120          236                    0   \n",
       "4   57    0                0         120          354                    0   \n",
       "\n",
       "   restecg  max_hr  exang  oldpeak  slope  num_major_vessels  thal  target  \n",
       "0        0     150      0      2.3      0                  0     1       1  \n",
       "1        1     187      0      3.5      0                  0     2       1  \n",
       "2        0     172      0      1.4      2                  0     2       1  \n",
       "3        1     178      0      0.8      2                  0     2       1  \n",
       "4        1     163      1      0.6      2                  0     2       1  "
      ]
     },
     "execution_count": 2,
     "metadata": {},
     "output_type": "execute_result"
    }
   ],
   "source": [
    "df=pd.read_csv(\"data/heart.csv\")\n",
    "df.head()"
   ]
  },
  {
   "cell_type": "markdown",
   "metadata": {},
   "source": [
    "# Data Exploration (Data Understanding)"
   ]
  },
  {
   "cell_type": "code",
   "execution_count": 3,
   "metadata": {
    "execution": {
     "iopub.execute_input": "2025-03-01T11:44:27.910181Z",
     "iopub.status.busy": "2025-03-01T11:44:27.909841Z",
     "iopub.status.idle": "2025-03-01T11:44:27.941775Z",
     "shell.execute_reply": "2025-03-01T11:44:27.940652Z",
     "shell.execute_reply.started": "2025-03-01T11:44:27.910153Z"
    },
    "trusted": true
   },
   "outputs": [
    {
     "name": "stdout",
     "output_type": "stream",
     "text": [
      "<class 'pandas.core.frame.DataFrame'>\n",
      "RangeIndex: 303 entries, 0 to 302\n",
      "Data columns (total 14 columns):\n",
      " #   Column               Non-Null Count  Dtype  \n",
      "---  ------               --------------  -----  \n",
      " 0   age                  303 non-null    int64  \n",
      " 1   sex                  303 non-null    int64  \n",
      " 2   chest_pain_type      303 non-null    int64  \n",
      " 3   resting_bp           303 non-null    int64  \n",
      " 4   cholestoral          303 non-null    int64  \n",
      " 5   fasting_blood_sugar  303 non-null    int64  \n",
      " 6   restecg              303 non-null    int64  \n",
      " 7   max_hr               303 non-null    int64  \n",
      " 8   exang                303 non-null    int64  \n",
      " 9   oldpeak              303 non-null    float64\n",
      " 10  slope                303 non-null    int64  \n",
      " 11  num_major_vessels    303 non-null    int64  \n",
      " 12  thal                 303 non-null    int64  \n",
      " 13  target               303 non-null    int64  \n",
      "dtypes: float64(1), int64(13)\n",
      "memory usage: 33.3 KB\n"
     ]
    }
   ],
   "source": [
    "df.info()"
   ]
  },
  {
   "cell_type": "code",
   "execution_count": null,
   "metadata": {
    "execution": {
     "iopub.execute_input": "2025-03-01T11:44:27.943580Z",
     "iopub.status.busy": "2025-03-01T11:44:27.943227Z",
     "iopub.status.idle": "2025-03-01T11:44:27.995417Z",
     "shell.execute_reply": "2025-03-01T11:44:27.994111Z",
     "shell.execute_reply.started": "2025-03-01T11:44:27.943549Z"
    },
    "trusted": true
   },
   "outputs": [
    {
     "data": {
      "text/html": [
       "<div>\n",
       "<style scoped>\n",
       "    .dataframe tbody tr th:only-of-type {\n",
       "        vertical-align: middle;\n",
       "    }\n",
       "\n",
       "    .dataframe tbody tr th {\n",
       "        vertical-align: top;\n",
       "    }\n",
       "\n",
       "    .dataframe thead th {\n",
       "        text-align: right;\n",
       "    }\n",
       "</style>\n",
       "<table border=\"1\" class=\"dataframe\">\n",
       "  <thead>\n",
       "    <tr style=\"text-align: right;\">\n",
       "      <th></th>\n",
       "      <th>count</th>\n",
       "      <th>mean</th>\n",
       "      <th>std</th>\n",
       "      <th>min</th>\n",
       "      <th>25%</th>\n",
       "      <th>50%</th>\n",
       "      <th>75%</th>\n",
       "      <th>max</th>\n",
       "    </tr>\n",
       "  </thead>\n",
       "  <tbody>\n",
       "    <tr>\n",
       "      <th>age</th>\n",
       "      <td>303.0</td>\n",
       "      <td>54.366337</td>\n",
       "      <td>9.082101</td>\n",
       "      <td>29.0</td>\n",
       "      <td>47.5</td>\n",
       "      <td>55.0</td>\n",
       "      <td>61.0</td>\n",
       "      <td>77.0</td>\n",
       "    </tr>\n",
       "    <tr>\n",
       "      <th>sex</th>\n",
       "      <td>303.0</td>\n",
       "      <td>0.683168</td>\n",
       "      <td>0.466011</td>\n",
       "      <td>0.0</td>\n",
       "      <td>0.0</td>\n",
       "      <td>1.0</td>\n",
       "      <td>1.0</td>\n",
       "      <td>1.0</td>\n",
       "    </tr>\n",
       "    <tr>\n",
       "      <th>chest_pain_type</th>\n",
       "      <td>303.0</td>\n",
       "      <td>0.966997</td>\n",
       "      <td>1.032052</td>\n",
       "      <td>0.0</td>\n",
       "      <td>0.0</td>\n",
       "      <td>1.0</td>\n",
       "      <td>2.0</td>\n",
       "      <td>3.0</td>\n",
       "    </tr>\n",
       "    <tr>\n",
       "      <th>resting_bp</th>\n",
       "      <td>303.0</td>\n",
       "      <td>131.623762</td>\n",
       "      <td>17.538143</td>\n",
       "      <td>94.0</td>\n",
       "      <td>120.0</td>\n",
       "      <td>130.0</td>\n",
       "      <td>140.0</td>\n",
       "      <td>200.0</td>\n",
       "    </tr>\n",
       "    <tr>\n",
       "      <th>cholestoral</th>\n",
       "      <td>303.0</td>\n",
       "      <td>246.264026</td>\n",
       "      <td>51.830751</td>\n",
       "      <td>126.0</td>\n",
       "      <td>211.0</td>\n",
       "      <td>240.0</td>\n",
       "      <td>274.5</td>\n",
       "      <td>564.0</td>\n",
       "    </tr>\n",
       "    <tr>\n",
       "      <th>fasting_blood_sugar</th>\n",
       "      <td>303.0</td>\n",
       "      <td>0.148515</td>\n",
       "      <td>0.356198</td>\n",
       "      <td>0.0</td>\n",
       "      <td>0.0</td>\n",
       "      <td>0.0</td>\n",
       "      <td>0.0</td>\n",
       "      <td>1.0</td>\n",
       "    </tr>\n",
       "    <tr>\n",
       "      <th>restecg</th>\n",
       "      <td>303.0</td>\n",
       "      <td>0.528053</td>\n",
       "      <td>0.525860</td>\n",
       "      <td>0.0</td>\n",
       "      <td>0.0</td>\n",
       "      <td>1.0</td>\n",
       "      <td>1.0</td>\n",
       "      <td>2.0</td>\n",
       "    </tr>\n",
       "    <tr>\n",
       "      <th>max_hr</th>\n",
       "      <td>303.0</td>\n",
       "      <td>149.646865</td>\n",
       "      <td>22.905161</td>\n",
       "      <td>71.0</td>\n",
       "      <td>133.5</td>\n",
       "      <td>153.0</td>\n",
       "      <td>166.0</td>\n",
       "      <td>202.0</td>\n",
       "    </tr>\n",
       "    <tr>\n",
       "      <th>exang</th>\n",
       "      <td>303.0</td>\n",
       "      <td>0.326733</td>\n",
       "      <td>0.469794</td>\n",
       "      <td>0.0</td>\n",
       "      <td>0.0</td>\n",
       "      <td>0.0</td>\n",
       "      <td>1.0</td>\n",
       "      <td>1.0</td>\n",
       "    </tr>\n",
       "    <tr>\n",
       "      <th>oldpeak</th>\n",
       "      <td>303.0</td>\n",
       "      <td>1.039604</td>\n",
       "      <td>1.161075</td>\n",
       "      <td>0.0</td>\n",
       "      <td>0.0</td>\n",
       "      <td>0.8</td>\n",
       "      <td>1.6</td>\n",
       "      <td>6.2</td>\n",
       "    </tr>\n",
       "    <tr>\n",
       "      <th>slope</th>\n",
       "      <td>303.0</td>\n",
       "      <td>1.399340</td>\n",
       "      <td>0.616226</td>\n",
       "      <td>0.0</td>\n",
       "      <td>1.0</td>\n",
       "      <td>1.0</td>\n",
       "      <td>2.0</td>\n",
       "      <td>2.0</td>\n",
       "    </tr>\n",
       "    <tr>\n",
       "      <th>num_major_vessels</th>\n",
       "      <td>303.0</td>\n",
       "      <td>0.729373</td>\n",
       "      <td>1.022606</td>\n",
       "      <td>0.0</td>\n",
       "      <td>0.0</td>\n",
       "      <td>0.0</td>\n",
       "      <td>1.0</td>\n",
       "      <td>4.0</td>\n",
       "    </tr>\n",
       "    <tr>\n",
       "      <th>thal</th>\n",
       "      <td>303.0</td>\n",
       "      <td>2.313531</td>\n",
       "      <td>0.612277</td>\n",
       "      <td>0.0</td>\n",
       "      <td>2.0</td>\n",
       "      <td>2.0</td>\n",
       "      <td>3.0</td>\n",
       "      <td>3.0</td>\n",
       "    </tr>\n",
       "    <tr>\n",
       "      <th>target</th>\n",
       "      <td>303.0</td>\n",
       "      <td>0.544554</td>\n",
       "      <td>0.498835</td>\n",
       "      <td>0.0</td>\n",
       "      <td>0.0</td>\n",
       "      <td>1.0</td>\n",
       "      <td>1.0</td>\n",
       "      <td>1.0</td>\n",
       "    </tr>\n",
       "  </tbody>\n",
       "</table>\n",
       "</div>"
      ],
      "text/plain": [
       "                     count        mean        std    min    25%    50%    75%  \\\n",
       "age                  303.0   54.366337   9.082101   29.0   47.5   55.0   61.0   \n",
       "sex                  303.0    0.683168   0.466011    0.0    0.0    1.0    1.0   \n",
       "chest_pain_type      303.0    0.966997   1.032052    0.0    0.0    1.0    2.0   \n",
       "resting_bp           303.0  131.623762  17.538143   94.0  120.0  130.0  140.0   \n",
       "cholestoral          303.0  246.264026  51.830751  126.0  211.0  240.0  274.5   \n",
       "fasting_blood_sugar  303.0    0.148515   0.356198    0.0    0.0    0.0    0.0   \n",
       "restecg              303.0    0.528053   0.525860    0.0    0.0    1.0    1.0   \n",
       "max_hr               303.0  149.646865  22.905161   71.0  133.5  153.0  166.0   \n",
       "exang                303.0    0.326733   0.469794    0.0    0.0    0.0    1.0   \n",
       "oldpeak              303.0    1.039604   1.161075    0.0    0.0    0.8    1.6   \n",
       "slope                303.0    1.399340   0.616226    0.0    1.0    1.0    2.0   \n",
       "num_major_vessels    303.0    0.729373   1.022606    0.0    0.0    0.0    1.0   \n",
       "thal                 303.0    2.313531   0.612277    0.0    2.0    2.0    3.0   \n",
       "target               303.0    0.544554   0.498835    0.0    0.0    1.0    1.0   \n",
       "\n",
       "                       max  \n",
       "age                   77.0  \n",
       "sex                    1.0  \n",
       "chest_pain_type        3.0  \n",
       "resting_bp           200.0  \n",
       "cholestoral          564.0  \n",
       "fasting_blood_sugar    1.0  \n",
       "restecg                2.0  \n",
       "max_hr               202.0  \n",
       "exang                  1.0  \n",
       "oldpeak                6.2  \n",
       "slope                  2.0  \n",
       "num_major_vessels      4.0  \n",
       "thal                   3.0  \n",
       "target                 1.0  "
      ]
     },
     "execution_count": 4,
     "metadata": {},
     "output_type": "execute_result"
    }
   ],
   "source": [
    "df.describe().T"
   ]
  },
  {
   "cell_type": "code",
   "execution_count": 5,
   "metadata": {
    "execution": {
     "iopub.execute_input": "2025-03-01T11:44:27.997287Z",
     "iopub.status.busy": "2025-03-01T11:44:27.996826Z",
     "iopub.status.idle": "2025-03-01T11:44:28.028762Z",
     "shell.execute_reply": "2025-03-01T11:44:28.024155Z",
     "shell.execute_reply.started": "2025-03-01T11:44:27.997240Z"
    },
    "trusted": true
   },
   "outputs": [
    {
     "name": "stdout",
     "output_type": "stream",
     "text": [
      "Value count for this column age:\n",
      "age\n",
      "58    19\n",
      "57    17\n",
      "54    16\n",
      "59    14\n",
      "52    13\n",
      "51    12\n",
      "62    11\n",
      "60    11\n",
      "44    11\n",
      "56    11\n",
      "64    10\n",
      "41    10\n",
      "63     9\n",
      "67     9\n",
      "65     8\n",
      "43     8\n",
      "45     8\n",
      "55     8\n",
      "42     8\n",
      "61     8\n",
      "53     8\n",
      "46     7\n",
      "48     7\n",
      "66     7\n",
      "50     7\n",
      "49     5\n",
      "47     5\n",
      "70     4\n",
      "39     4\n",
      "35     4\n",
      "68     4\n",
      "38     3\n",
      "71     3\n",
      "40     3\n",
      "69     3\n",
      "34     2\n",
      "37     2\n",
      "29     1\n",
      "74     1\n",
      "76     1\n",
      "77     1\n",
      "Name: count, dtype: int64\n",
      "\n",
      "\n",
      "Value count for this column sex:\n",
      "sex\n",
      "1    207\n",
      "0     96\n",
      "Name: count, dtype: int64\n",
      "\n",
      "\n",
      "Value count for this column chest_pain_type:\n",
      "chest_pain_type\n",
      "0    143\n",
      "2     87\n",
      "1     50\n",
      "3     23\n",
      "Name: count, dtype: int64\n",
      "\n",
      "\n",
      "Value count for this column resting_bp:\n",
      "resting_bp\n",
      "120    37\n",
      "130    36\n",
      "140    32\n",
      "110    19\n",
      "150    17\n",
      "138    13\n",
      "128    12\n",
      "160    11\n",
      "125    11\n",
      "112     9\n",
      "132     8\n",
      "118     7\n",
      "124     6\n",
      "135     6\n",
      "108     6\n",
      "152     5\n",
      "134     5\n",
      "145     5\n",
      "122     4\n",
      "170     4\n",
      "100     4\n",
      "105     3\n",
      "126     3\n",
      "115     3\n",
      "180     3\n",
      "136     3\n",
      "142     3\n",
      "102     2\n",
      "148     2\n",
      "178     2\n",
      "94      2\n",
      "144     2\n",
      "146     2\n",
      "200     1\n",
      "114     1\n",
      "154     1\n",
      "123     1\n",
      "192     1\n",
      "174     1\n",
      "165     1\n",
      "104     1\n",
      "117     1\n",
      "101     1\n",
      "156     1\n",
      "106     1\n",
      "155     1\n",
      "129     1\n",
      "172     1\n",
      "164     1\n",
      "Name: count, dtype: int64\n",
      "\n",
      "\n",
      "Value count for this column cholestoral:\n",
      "cholestoral\n",
      "204    6\n",
      "197    6\n",
      "234    6\n",
      "269    5\n",
      "254    5\n",
      "      ..\n",
      "284    1\n",
      "224    1\n",
      "167    1\n",
      "276    1\n",
      "131    1\n",
      "Name: count, Length: 152, dtype: int64\n",
      "\n",
      "\n",
      "Value count for this column fasting_blood_sugar:\n",
      "fasting_blood_sugar\n",
      "0    258\n",
      "1     45\n",
      "Name: count, dtype: int64\n",
      "\n",
      "\n",
      "Value count for this column restecg:\n",
      "restecg\n",
      "1    152\n",
      "0    147\n",
      "2      4\n",
      "Name: count, dtype: int64\n",
      "\n",
      "\n",
      "Value count for this column max_hr:\n",
      "max_hr\n",
      "162    11\n",
      "160     9\n",
      "163     9\n",
      "152     8\n",
      "173     8\n",
      "       ..\n",
      "202     1\n",
      "184     1\n",
      "121     1\n",
      "192     1\n",
      "90      1\n",
      "Name: count, Length: 91, dtype: int64\n",
      "\n",
      "\n",
      "Value count for this column exang:\n",
      "exang\n",
      "0    204\n",
      "1     99\n",
      "Name: count, dtype: int64\n",
      "\n",
      "\n",
      "Value count for this column oldpeak:\n",
      "oldpeak\n",
      "0.0    99\n",
      "1.2    17\n",
      "1.0    14\n",
      "0.6    14\n",
      "1.4    13\n",
      "0.8    13\n",
      "0.2    12\n",
      "1.6    11\n",
      "1.8    10\n",
      "0.4     9\n",
      "2.0     9\n",
      "0.1     7\n",
      "2.8     6\n",
      "2.6     6\n",
      "1.5     5\n",
      "3.0     5\n",
      "1.9     5\n",
      "0.5     5\n",
      "3.6     4\n",
      "2.2     4\n",
      "2.4     3\n",
      "0.9     3\n",
      "3.4     3\n",
      "4.0     3\n",
      "0.3     3\n",
      "2.3     2\n",
      "3.2     2\n",
      "2.5     2\n",
      "4.2     2\n",
      "1.1     2\n",
      "3.1     1\n",
      "0.7     1\n",
      "3.5     1\n",
      "6.2     1\n",
      "1.3     1\n",
      "5.6     1\n",
      "2.9     1\n",
      "2.1     1\n",
      "3.8     1\n",
      "4.4     1\n",
      "Name: count, dtype: int64\n",
      "\n",
      "\n",
      "Value count for this column slope:\n",
      "slope\n",
      "2    142\n",
      "1    140\n",
      "0     21\n",
      "Name: count, dtype: int64\n",
      "\n",
      "\n",
      "Value count for this column num_major_vessels:\n",
      "num_major_vessels\n",
      "0    175\n",
      "1     65\n",
      "2     38\n",
      "3     20\n",
      "4      5\n",
      "Name: count, dtype: int64\n",
      "\n",
      "\n",
      "Value count for this column thal:\n",
      "thal\n",
      "2    166\n",
      "3    117\n",
      "1     18\n",
      "0      2\n",
      "Name: count, dtype: int64\n",
      "\n",
      "\n",
      "Value count for this column target:\n",
      "target\n",
      "1    165\n",
      "0    138\n",
      "Name: count, dtype: int64\n",
      "\n",
      "\n"
     ]
    }
   ],
   "source": [
    "value_counts = {col: df[col].value_counts() for col in df.columns}\n",
    "\n",
    "for col, counts in value_counts.items():\n",
    "    print(f\"Value count for this column {col}:\")\n",
    "    print(counts)\n",
    "    print(\"\\n\")"
   ]
  },
  {
   "cell_type": "code",
   "execution_count": 6,
   "metadata": {
    "execution": {
     "iopub.execute_input": "2025-03-01T11:44:28.030531Z",
     "iopub.status.busy": "2025-03-01T11:44:28.030008Z",
     "iopub.status.idle": "2025-03-01T11:44:28.052887Z",
     "shell.execute_reply": "2025-03-01T11:44:28.051508Z",
     "shell.execute_reply.started": "2025-03-01T11:44:28.030496Z"
    },
    "trusted": true
   },
   "outputs": [
    {
     "data": {
      "text/plain": [
       "target\n",
       "1    165\n",
       "0    138\n",
       "Name: count, dtype: int64"
      ]
     },
     "execution_count": 6,
     "metadata": {},
     "output_type": "execute_result"
    }
   ],
   "source": [
    "df[\"target\"].value_counts()"
   ]
  },
  {
   "cell_type": "code",
   "execution_count": 7,
   "metadata": {
    "execution": {
     "iopub.execute_input": "2025-03-01T11:44:28.054705Z",
     "iopub.status.busy": "2025-03-01T11:44:28.054269Z",
     "iopub.status.idle": "2025-03-01T11:44:28.077103Z",
     "shell.execute_reply": "2025-03-01T11:44:28.075828Z",
     "shell.execute_reply.started": "2025-03-01T11:44:28.054663Z"
    },
    "trusted": true
   },
   "outputs": [
    {
     "data": {
      "text/plain": [
       "age                    0\n",
       "sex                    0\n",
       "chest_pain_type        0\n",
       "resting_bp             0\n",
       "cholestoral            0\n",
       "fasting_blood_sugar    0\n",
       "restecg                0\n",
       "max_hr                 0\n",
       "exang                  0\n",
       "oldpeak                0\n",
       "slope                  0\n",
       "num_major_vessels      0\n",
       "thal                   0\n",
       "target                 0\n",
       "dtype: int64"
      ]
     },
     "execution_count": 7,
     "metadata": {},
     "output_type": "execute_result"
    }
   ],
   "source": [
    "df.isnull().sum()"
   ]
  },
  {
   "cell_type": "code",
   "execution_count": 8,
   "metadata": {
    "execution": {
     "iopub.execute_input": "2025-03-01T11:44:28.081606Z",
     "iopub.status.busy": "2025-03-01T11:44:28.081212Z",
     "iopub.status.idle": "2025-03-01T11:44:28.645295Z",
     "shell.execute_reply": "2025-03-01T11:44:28.644086Z",
     "shell.execute_reply.started": "2025-03-01T11:44:28.081571Z"
    },
    "trusted": true
   },
   "outputs": [
    {
     "data": {
      "image/png": "[encoded data removed]",
      "text/plain": [
       "<Figure size 640x480 with 2 Axes>"
      ]
     },
     "metadata": {},
     "output_type": "display_data"
    }
   ],
   "source": [
    "corr_matrix = df.corr(method='pearson')\n",
    "ax=sns.heatmap(corr_matrix)"
   ]
  },
  {
   "cell_type": "code",
   "execution_count": 9,
   "metadata": {
    "execution": {
     "iopub.execute_input": "2025-03-01T11:44:28.647555Z",
     "iopub.status.busy": "2025-03-01T11:44:28.647189Z",
     "iopub.status.idle": "2025-03-01T11:44:28.660300Z",
     "shell.execute_reply": "2025-03-01T11:44:28.659141Z",
     "shell.execute_reply.started": "2025-03-01T11:44:28.647523Z"
    },
    "trusted": true
   },
   "outputs": [
    {
     "data": {
      "text/html": [
       "<div>\n",
       "<style scoped>\n",
       "    .dataframe tbody tr th:only-of-type {\n",
       "        vertical-align: middle;\n",
       "    }\n",
       "\n",
       "    .dataframe tbody tr th {\n",
       "        vertical-align: top;\n",
       "    }\n",
       "\n",
       "    .dataframe thead th {\n",
       "        text-align: right;\n",
       "    }\n",
       "</style>\n",
       "<table border=\"1\" class=\"dataframe\">\n",
       "  <thead>\n",
       "    <tr style=\"text-align: right;\">\n",
       "      <th></th>\n",
       "      <th>target</th>\n",
       "    </tr>\n",
       "  </thead>\n",
       "  <tbody>\n",
       "    <tr>\n",
       "      <th>target</th>\n",
       "      <td>1.000000</td>\n",
       "    </tr>\n",
       "    <tr>\n",
       "      <th>exang</th>\n",
       "      <td>0.436757</td>\n",
       "    </tr>\n",
       "    <tr>\n",
       "      <th>chest_pain_type</th>\n",
       "      <td>0.433798</td>\n",
       "    </tr>\n",
       "    <tr>\n",
       "      <th>oldpeak</th>\n",
       "      <td>0.430696</td>\n",
       "    </tr>\n",
       "    <tr>\n",
       "      <th>max_hr</th>\n",
       "      <td>0.421741</td>\n",
       "    </tr>\n",
       "    <tr>\n",
       "      <th>num_major_vessels</th>\n",
       "      <td>0.391724</td>\n",
       "    </tr>\n",
       "    <tr>\n",
       "      <th>slope</th>\n",
       "      <td>0.345877</td>\n",
       "    </tr>\n",
       "    <tr>\n",
       "      <th>thal</th>\n",
       "      <td>0.344029</td>\n",
       "    </tr>\n",
       "    <tr>\n",
       "      <th>sex</th>\n",
       "      <td>0.280937</td>\n",
       "    </tr>\n",
       "    <tr>\n",
       "      <th>age</th>\n",
       "      <td>0.225439</td>\n",
       "    </tr>\n",
       "    <tr>\n",
       "      <th>resting_bp</th>\n",
       "      <td>0.144931</td>\n",
       "    </tr>\n",
       "    <tr>\n",
       "      <th>restecg</th>\n",
       "      <td>0.137230</td>\n",
       "    </tr>\n",
       "    <tr>\n",
       "      <th>cholestoral</th>\n",
       "      <td>0.085239</td>\n",
       "    </tr>\n",
       "    <tr>\n",
       "      <th>fasting_blood_sugar</th>\n",
       "      <td>0.028046</td>\n",
       "    </tr>\n",
       "  </tbody>\n",
       "</table>\n",
       "</div>"
      ],
      "text/plain": [
       "                       target\n",
       "target               1.000000\n",
       "exang                0.436757\n",
       "chest_pain_type      0.433798\n",
       "oldpeak              0.430696\n",
       "max_hr               0.421741\n",
       "num_major_vessels    0.391724\n",
       "slope                0.345877\n",
       "thal                 0.344029\n",
       "sex                  0.280937\n",
       "age                  0.225439\n",
       "resting_bp           0.144931\n",
       "restecg              0.137230\n",
       "cholestoral          0.085239\n",
       "fasting_blood_sugar  0.028046"
      ]
     },
     "execution_count": 9,
     "metadata": {},
     "output_type": "execute_result"
    }
   ],
   "source": [
    "target_corr = corr_matrix[['target']]\n",
    "target_corr_sorted = target_corr.abs().sort_values(by='target', ascending=False)\n",
    "target_corr_sorted"
   ]
  },
  {
   "cell_type": "code",
   "execution_count": 10,
   "metadata": {
    "execution": {
     "iopub.execute_input": "2025-03-01T11:44:28.662567Z",
     "iopub.status.busy": "2025-03-01T11:44:28.661976Z",
     "iopub.status.idle": "2025-03-01T11:44:29.049686Z",
     "shell.execute_reply": "2025-03-01T11:44:29.048422Z",
     "shell.execute_reply.started": "2025-03-01T11:44:28.662520Z"
    },
    "trusted": true
   },
   "outputs": [
    {
     "data": {
      "image/png": "[encoded data removed]",
      "text/plain": [
       "<Figure size 500x700 with 2 Axes>"
      ]
     },
     "metadata": {},
     "output_type": "display_data"
    }
   ],
   "source": [
    "plt.figure(figsize=(5, len(target_corr)*0.5)) # adjust the size as needed\n",
    "sns.heatmap(target_corr_sorted, annot=True, cmap='coolwarm', vmin=-1, vmax=1)\n",
    "plt.title('Correlation with Target')\n",
    "plt.show()"
   ]
  },
  {
   "cell_type": "code",
   "execution_count": 11,
   "metadata": {
    "execution": {
     "iopub.execute_input": "2025-03-01T11:44:29.051166Z",
     "iopub.status.busy": "2025-03-01T11:44:29.050864Z",
     "iopub.status.idle": "2025-03-01T11:44:29.058783Z",
     "shell.execute_reply": "2025-03-01T11:44:29.057004Z",
     "shell.execute_reply.started": "2025-03-01T11:44:29.051141Z"
    },
    "trusted": true
   },
   "outputs": [
    {
     "data": {
      "text/plain": [
       "Index(['age', 'sex', 'chest_pain_type', 'resting_bp', 'cholestoral',\n",
       "       'fasting_blood_sugar', 'restecg', 'max_hr', 'exang', 'oldpeak', 'slope',\n",
       "       'num_major_vessels', 'thal', 'target'],\n",
       "      dtype='object')"
      ]
     },
     "execution_count": 11,
     "metadata": {},
     "output_type": "execute_result"
    }
   ],
   "source": [
    "df.columns"
   ]
  },
  {
   "cell_type": "code",
   "execution_count": 12,
   "metadata": {
    "execution": {
     "iopub.execute_input": "2025-03-01T11:45:36.542601Z",
     "iopub.status.busy": "2025-03-01T11:45:36.542127Z",
     "iopub.status.idle": "2025-03-01T11:45:36.548904Z",
     "shell.execute_reply": "2025-03-01T11:45:36.547636Z",
     "shell.execute_reply.started": "2025-03-01T11:45:36.542565Z"
    },
    "trusted": true
   },
   "outputs": [],
   "source": [
    "columns_list=['age', 'sex', 'chest_pain_type', 'resting_bp', 'restecg', 'max_hr', 'exang', 'oldpeak', 'slope', 'thal' ]\n",
    "\n",
    "X, y = df[columns_list], df['target']\n"
   ]
  },
  {
   "cell_type": "code",
   "execution_count": 13,
   "metadata": {
    "execution": {
     "iopub.execute_input": "2025-03-01T11:44:29.079272Z",
     "iopub.status.busy": "2025-03-01T11:44:29.078869Z",
     "iopub.status.idle": "2025-03-01T11:44:29.099868Z",
     "shell.execute_reply": "2025-03-01T11:44:29.098741Z",
     "shell.execute_reply.started": "2025-03-01T11:44:29.079230Z"
    },
    "trusted": true
   },
   "outputs": [],
   "source": [
    "# # Inisialisasi RobustScaler\n",
    "# scaler = RobustScaler()\n",
    "\n",
    "# X_scaled = scaler.fit_transform(X)\n",
    "# X = pd.DataFrame(X_scaled, columns=X.columns)\n",
    "\n",
    "# # Save the scaler to a file\n",
    "# joblib.dump(scaler, 'robust_scaler.pkl')\n",
    "\n",
    "# X"
   ]
  },
  {
   "cell_type": "code",
   "execution_count": 13,
   "metadata": {
    "execution": {
     "iopub.execute_input": "2025-03-01T11:45:45.851504Z",
     "iopub.status.busy": "2025-03-01T11:45:45.851113Z",
     "iopub.status.idle": "2025-03-01T11:45:45.866593Z",
     "shell.execute_reply": "2025-03-01T11:45:45.865358Z",
     "shell.execute_reply.started": "2025-03-01T11:45:45.851469Z"
    },
    "trusted": true
   },
   "outputs": [
    {
     "data": {
      "text/plain": [
       "['Saved_Model_Status/Standard_scaler.pkl']"
      ]
     },
     "execution_count": 13,
     "metadata": {},
     "output_type": "execute_result"
    }
   ],
   "source": [
    "SC = StandardScaler()\n",
    "X = SC.fit_transform(X)\n",
    "joblib.dump(SC, 'Saved_Model_Status/Standard_scaler.pkl')"
   ]
  },
  {
   "cell_type": "code",
   "execution_count": 14,
   "metadata": {
    "execution": {
     "iopub.execute_input": "2025-03-01T11:45:46.818687Z",
     "iopub.status.busy": "2025-03-01T11:45:46.818277Z",
     "iopub.status.idle": "2025-03-01T11:45:46.825826Z",
     "shell.execute_reply": "2025-03-01T11:45:46.824578Z",
     "shell.execute_reply.started": "2025-03-01T11:45:46.818653Z"
    },
    "trusted": true
   },
   "outputs": [
    {
     "data": {
      "text/plain": [
       "array([[ 0.9521966 ,  0.68100522,  1.97312292, ...,  1.08733806,\n",
       "        -2.27457861, -2.14887271],\n",
       "       [-1.91531289,  0.68100522,  1.00257707, ...,  2.12257273,\n",
       "        -2.27457861, -0.51292188],\n",
       "       [-1.47415758, -1.46841752,  0.03203122, ...,  0.31091206,\n",
       "         0.97635214, -0.51292188],\n",
       "       ...,\n",
       "       [ 1.50364073,  0.68100522, -0.93851463, ...,  2.03630317,\n",
       "        -0.64911323,  1.12302895],\n",
       "       [ 0.29046364,  0.68100522, -0.93851463, ...,  0.13837295,\n",
       "        -0.64911323,  1.12302895],\n",
       "       [ 0.29046364, -1.46841752,  0.03203122, ..., -0.89686172,\n",
       "        -0.64911323, -0.51292188]])"
      ]
     },
     "execution_count": 14,
     "metadata": {},
     "output_type": "execute_result"
    }
   ],
   "source": [
    "X"
   ]
  },
  {
   "cell_type": "code",
   "execution_count": 15,
   "metadata": {
    "execution": {
     "iopub.execute_input": "2025-03-01T11:45:49.288769Z",
     "iopub.status.busy": "2025-03-01T11:45:49.288348Z",
     "iopub.status.idle": "2025-03-01T11:45:49.300609Z",
     "shell.execute_reply": "2025-03-01T11:45:49.298578Z",
     "shell.execute_reply.started": "2025-03-01T11:45:49.288736Z"
    },
    "trusted": true
   },
   "outputs": [
    {
     "data": {
      "text/plain": [
       "0      1\n",
       "1      1\n",
       "2      1\n",
       "3      1\n",
       "4      1\n",
       "      ..\n",
       "298    0\n",
       "299    0\n",
       "300    0\n",
       "301    0\n",
       "302    0\n",
       "Name: target, Length: 303, dtype: int64"
      ]
     },
     "execution_count": 15,
     "metadata": {},
     "output_type": "execute_result"
    }
   ],
   "source": [
    "y"
   ]
  },
  {
   "cell_type": "code",
   "execution_count": 16,
   "metadata": {
    "execution": {
     "iopub.execute_input": "2025-03-01T11:45:49.832843Z",
     "iopub.status.busy": "2025-03-01T11:45:49.832434Z",
     "iopub.status.idle": "2025-03-01T11:45:49.843969Z",
     "shell.execute_reply": "2025-03-01T11:45:49.842734Z",
     "shell.execute_reply.started": "2025-03-01T11:45:49.832812Z"
    },
    "trusted": true
   },
   "outputs": [],
   "source": [
    "def evaluate_models(X, y):\n",
    "    results = []\n",
    "    \n",
    "    # Split the data\n",
    "    X_train, X_test, y_train, y_test = train_test_split(X, y, test_size=0.2, random_state=42)\n",
    "\n",
    "    models = [\n",
    "        ('Logistic Regression', LogisticRegression(max_iter=1000)),\n",
    "        ('Decision Tree', DecisionTreeClassifier()),\n",
    "        ('Random Forest', RandomForestClassifier()),\n",
    "        ('Gradient Boosting', GradientBoostingClassifier()),\n",
    "        ('AdaBoost', AdaBoostClassifier()),\n",
    "        ('Support Vector Machine', SVC()),\n",
    "        ('K-Nearest Neighbors', KNeighborsClassifier()),\n",
    "        ('Naive Bayes', GaussianNB()),\n",
    "        ('XGBoost', XGBClassifier(use_label_encoder=False, eval_metric='logloss')),\n",
    "    ]\n",
    "\n",
    "    # Evaluate each model\n",
    "    for name, model in models:\n",
    "        model.fit(X_train, y_train)\n",
    "        y_pred = model.predict(X_test)\n",
    "        accuracy = accuracy_score(y_test, y_pred)\n",
    "        precision = precision_score(y_test, y_pred, average='weighted')\n",
    "        recall = recall_score(y_test, y_pred, average='weighted')\n",
    "        f1 = f1_score(y_test, y_pred, average='weighted')\n",
    "        results.append((name, accuracy, precision, recall, f1))\n",
    "\n",
    "    # Create a DataFrame to display results\n",
    "    df = pd.DataFrame(results, columns=['Model', 'Accuracy', 'Precision', 'Recall', 'F1'])\n",
    "    df_styled = df.style.highlight_max(subset=['Accuracy', 'Precision', 'Recall', 'F1'], color='blue')\n",
    "    display(df_styled)\n"
   ]
  },
  {
   "cell_type": "code",
   "execution_count": 22,
   "metadata": {
    "execution": {
     "iopub.execute_input": "2025-03-01T11:45:57.061097Z",
     "iopub.status.busy": "2025-03-01T11:45:57.060755Z",
     "iopub.status.idle": "2025-03-01T11:45:57.550323Z",
     "shell.execute_reply": "2025-03-01T11:45:57.549331Z",
     "shell.execute_reply.started": "2025-03-01T11:45:57.061070Z"
    },
    "trusted": true
   },
   "outputs": [
    {
     "data": {
      "text/html": [
       "<style type=\"text/css\">\n",
       "#T_ef375_row2_col1, #T_ef375_row2_col2, #T_ef375_row2_col3, #T_ef375_row2_col4 {\n",
       "  background-color: blue;\n",
       "}\n",
       "</style>\n",
       "<table id=\"T_ef375\">\n",
       "  <thead>\n",
       "    <tr>\n",
       "      <th class=\"blank level0\" >&nbsp;</th>\n",
       "      <th id=\"T_ef375_level0_col0\" class=\"col_heading level0 col0\" >Model</th>\n",
       "      <th id=\"T_ef375_level0_col1\" class=\"col_heading level0 col1\" >Accuracy</th>\n",
       "      <th id=\"T_ef375_level0_col2\" class=\"col_heading level0 col2\" >Precision</th>\n",
       "      <th id=\"T_ef375_level0_col3\" class=\"col_heading level0 col3\" >Recall</th>\n",
       "      <th id=\"T_ef375_level0_col4\" class=\"col_heading level0 col4\" >F1</th>\n",
       "    </tr>\n",
       "  </thead>\n",
       "  <tbody>\n",
       "    <tr>\n",
       "      <th id=\"T_ef375_level0_row0\" class=\"row_heading level0 row0\" >0</th>\n",
       "      <td id=\"T_ef375_row0_col0\" class=\"data row0 col0\" >Logistic Regression</td>\n",
       "      <td id=\"T_ef375_row0_col1\" class=\"data row0 col1\" >0.868852</td>\n",
       "      <td id=\"T_ef375_row0_col2\" class=\"data row0 col2\" >0.868852</td>\n",
       "      <td id=\"T_ef375_row0_col3\" class=\"data row0 col3\" >0.868852</td>\n",
       "      <td id=\"T_ef375_row0_col4\" class=\"data row0 col4\" >0.868852</td>\n",
       "    </tr>\n",
       "    <tr>\n",
       "      <th id=\"T_ef375_level0_row1\" class=\"row_heading level0 row1\" >1</th>\n",
       "      <td id=\"T_ef375_row1_col0\" class=\"data row1 col0\" >Decision Tree</td>\n",
       "      <td id=\"T_ef375_row1_col1\" class=\"data row1 col1\" >0.819672</td>\n",
       "      <td id=\"T_ef375_row1_col2\" class=\"data row1 col2\" >0.839180</td>\n",
       "      <td id=\"T_ef375_row1_col3\" class=\"data row1 col3\" >0.819672</td>\n",
       "      <td id=\"T_ef375_row1_col4\" class=\"data row1 col4\" >0.818309</td>\n",
       "    </tr>\n",
       "    <tr>\n",
       "      <th id=\"T_ef375_level0_row2\" class=\"row_heading level0 row2\" >2</th>\n",
       "      <td id=\"T_ef375_row2_col0\" class=\"data row2 col0\" >Random Forest</td>\n",
       "      <td id=\"T_ef375_row2_col1\" class=\"data row2 col1\" >0.885246</td>\n",
       "      <td id=\"T_ef375_row2_col2\" class=\"data row2 col2\" >0.889539</td>\n",
       "      <td id=\"T_ef375_row2_col3\" class=\"data row2 col3\" >0.885246</td>\n",
       "      <td id=\"T_ef375_row2_col4\" class=\"data row2 col4\" >0.885246</td>\n",
       "    </tr>\n",
       "    <tr>\n",
       "      <th id=\"T_ef375_level0_row3\" class=\"row_heading level0 row3\" >3</th>\n",
       "      <td id=\"T_ef375_row3_col0\" class=\"data row3 col0\" >Gradient Boosting</td>\n",
       "      <td id=\"T_ef375_row3_col1\" class=\"data row3 col1\" >0.852459</td>\n",
       "      <td id=\"T_ef375_row3_col2\" class=\"data row3 col2\" >0.863263</td>\n",
       "      <td id=\"T_ef375_row3_col3\" class=\"data row3 col3\" >0.852459</td>\n",
       "      <td id=\"T_ef375_row3_col4\" class=\"data row3 col4\" >0.852062</td>\n",
       "    </tr>\n",
       "    <tr>\n",
       "      <th id=\"T_ef375_level0_row4\" class=\"row_heading level0 row4\" >4</th>\n",
       "      <td id=\"T_ef375_row4_col0\" class=\"data row4 col0\" >AdaBoost</td>\n",
       "      <td id=\"T_ef375_row4_col1\" class=\"data row4 col1\" >0.836066</td>\n",
       "      <td id=\"T_ef375_row4_col2\" class=\"data row4 col2\" >0.850982</td>\n",
       "      <td id=\"T_ef375_row4_col3\" class=\"data row4 col3\" >0.836066</td>\n",
       "      <td id=\"T_ef375_row4_col4\" class=\"data row4 col4\" >0.835271</td>\n",
       "    </tr>\n",
       "    <tr>\n",
       "      <th id=\"T_ef375_level0_row5\" class=\"row_heading level0 row5\" >5</th>\n",
       "      <td id=\"T_ef375_row5_col0\" class=\"data row5 col0\" >Support Vector Machine</td>\n",
       "      <td id=\"T_ef375_row5_col1\" class=\"data row5 col1\" >0.852459</td>\n",
       "      <td id=\"T_ef375_row5_col2\" class=\"data row5 col2\" >0.856593</td>\n",
       "      <td id=\"T_ef375_row5_col3\" class=\"data row5 col3\" >0.852459</td>\n",
       "      <td id=\"T_ef375_row5_col4\" class=\"data row5 col4\" >0.852459</td>\n",
       "    </tr>\n",
       "    <tr>\n",
       "      <th id=\"T_ef375_level0_row6\" class=\"row_heading level0 row6\" >6</th>\n",
       "      <td id=\"T_ef375_row6_col0\" class=\"data row6 col0\" >K-Nearest Neighbors</td>\n",
       "      <td id=\"T_ef375_row6_col1\" class=\"data row6 col1\" >0.819672</td>\n",
       "      <td id=\"T_ef375_row6_col2\" class=\"data row6 col2\" >0.823647</td>\n",
       "      <td id=\"T_ef375_row6_col3\" class=\"data row6 col3\" >0.819672</td>\n",
       "      <td id=\"T_ef375_row6_col4\" class=\"data row6 col4\" >0.819672</td>\n",
       "    </tr>\n",
       "    <tr>\n",
       "      <th id=\"T_ef375_level0_row7\" class=\"row_heading level0 row7\" >7</th>\n",
       "      <td id=\"T_ef375_row7_col0\" class=\"data row7 col0\" >Naive Bayes</td>\n",
       "      <td id=\"T_ef375_row7_col1\" class=\"data row7 col1\" >0.803279</td>\n",
       "      <td id=\"T_ef375_row7_col2\" class=\"data row7 col2\" >0.809808</td>\n",
       "      <td id=\"T_ef375_row7_col3\" class=\"data row7 col3\" >0.803279</td>\n",
       "      <td id=\"T_ef375_row7_col4\" class=\"data row7 col4\" >0.803067</td>\n",
       "    </tr>\n",
       "    <tr>\n",
       "      <th id=\"T_ef375_level0_row8\" class=\"row_heading level0 row8\" >8</th>\n",
       "      <td id=\"T_ef375_row8_col0\" class=\"data row8 col0\" >XGBoost</td>\n",
       "      <td id=\"T_ef375_row8_col1\" class=\"data row8 col1\" >0.819672</td>\n",
       "      <td id=\"T_ef375_row8_col2\" class=\"data row8 col2\" >0.829851</td>\n",
       "      <td id=\"T_ef375_row8_col3\" class=\"data row8 col3\" >0.819672</td>\n",
       "      <td id=\"T_ef375_row8_col4\" class=\"data row8 col4\" >0.819187</td>\n",
       "    </tr>\n",
       "  </tbody>\n",
       "</table>\n"
      ],
      "text/plain": [
       "<pandas.io.formats.style.Styler at 0x279b891c530>"
      ]
     },
     "metadata": {},
     "output_type": "display_data"
    }
   ],
   "source": [
    "evaluate_models(X,y)"
   ]
  },
  {
   "cell_type": "markdown",
   "metadata": {},
   "source": [
    "# After Show Many different Models : fit and training and save the model"
   ]
  },
  {
   "cell_type": "code",
   "execution_count": 106,
   "metadata": {
    "execution": {
     "iopub.execute_input": "2025-03-01T11:59:28.849902Z",
     "iopub.status.busy": "2025-03-01T11:59:28.849559Z",
     "iopub.status.idle": "2025-03-01T11:59:29.045978Z",
     "shell.execute_reply": "2025-03-01T11:59:29.044884Z",
     "shell.execute_reply.started": "2025-03-01T11:59:28.849876Z"
    },
    "trusted": true
   },
   "outputs": [
    {
     "name": "stdout",
     "output_type": "stream",
     "text": [
      "Result of Random Forest Classifier:-\n",
      "Accuracy : 0.9016393442622951\n",
      "precision : 0.9333333333333333\n",
      "recall : 0.875\n",
      "f1 : 0.9032258064516129\n"
     ]
    }
   ],
   "source": [
    " X_train, X_test, y_train, y_test = train_test_split(X, y, test_size=0.2, random_state=42)\n",
    "  \n",
    "model=RandomForestClassifier()\n",
    "model.fit(X_train, y_train)\n",
    "y_pred = model.predict(X_test)\n",
    "\n",
    "accuracy = accuracy_score(y_test, y_pred)\n",
    "precision = precision_score(y_test, y_pred)\n",
    "recall = recall_score(y_test, y_pred)\n",
    "f1 = f1_score(y_test, y_pred)\n",
    "\n",
    "print(\"Result of Random Forest Classifier:-\")\n",
    "print(\"Accuracy : \"+str(accuracy))\n",
    "print(\"precision : \"+str(precision))\n",
    "print(\"recall : \"+str(recall)  )\n",
    "print(\"f1 : \"+str(f1))"
   ]
  },
  {
   "cell_type": "code",
   "execution_count": 107,
   "metadata": {
    "execution": {
     "iopub.execute_input": "2025-03-01T11:59:42.146109Z",
     "iopub.status.busy": "2025-03-01T11:59:42.145725Z",
     "iopub.status.idle": "2025-03-01T11:59:42.154565Z",
     "shell.execute_reply": "2025-03-01T11:59:42.153362Z",
     "shell.execute_reply.started": "2025-03-01T11:59:42.146076Z"
    },
    "trusted": true
   },
   "outputs": [
    {
     "name": "stdout",
     "output_type": "stream",
     "text": [
      "\n",
      "Confusion Matrix:\n",
      "[[27  2]\n",
      " [ 4 28]]\n"
     ]
    }
   ],
   "source": [
    "conf_matrix = confusion_matrix(y_test, y_pred)\n",
    "\n",
    "print(\"\\nConfusion Matrix:\")\n",
    "print(conf_matrix)"
   ]
  },
  {
   "cell_type": "code",
   "execution_count": 108,
   "metadata": {
    "execution": {
     "iopub.execute_input": "2025-03-01T11:59:45.783901Z",
     "iopub.status.busy": "2025-03-01T11:59:45.783562Z",
     "iopub.status.idle": "2025-03-01T11:59:46.011717Z",
     "shell.execute_reply": "2025-03-01T11:59:46.010479Z",
     "shell.execute_reply.started": "2025-03-01T11:59:45.783874Z"
    },
    "trusted": true
   },
   "outputs": [
    {
     "data": {
      "image/png": "[encoded data removed]",
      "text/plain": [
       "<Figure size 800x600 with 2 Axes>"
      ]
     },
     "metadata": {},
     "output_type": "display_data"
    }
   ],
   "source": [
    "plt.figure(figsize=(8, 6))\n",
    "sns.heatmap(conf_matrix, annot=True, fmt='d', cmap='Blues', xticklabels=['Predicted Negative', 'Predicted Positive'], yticklabels=['Actual Negative', 'Actual Positive'])\n",
    "plt.ylabel('Actual')\n",
    "plt.xlabel('Predicted')\n",
    "plt.title('Confusion Matrix')\n",
    "plt.show()"
   ]
  },
  {
   "cell_type": "code",
   "execution_count": 109,
   "metadata": {
    "execution": {
     "iopub.execute_input": "2025-03-01T12:00:08.918938Z",
     "iopub.status.busy": "2025-03-01T12:00:08.918541Z",
     "iopub.status.idle": "2025-03-01T12:00:08.933939Z",
     "shell.execute_reply": "2025-03-01T12:00:08.932635Z",
     "shell.execute_reply.started": "2025-03-01T12:00:08.918905Z"
    },
    "trusted": true
   },
   "outputs": [
    {
     "name": "stdout",
     "output_type": "stream",
     "text": [
      "Model Saved Successfully\n"
     ]
    }
   ],
   "source": [
    "with open('Saved_Model_Status/HeartModelRandomForest','wb') as file: \n",
    "    pickle.dump(model,file) \n",
    "    print(\"Model Saved Successfully\")"
   ]
  },
  {
   "cell_type": "code",
   "execution_count": 110,
   "metadata": {
    "execution": {
     "iopub.execute_input": "2025-03-01T12:00:09.625832Z",
     "iopub.status.busy": "2025-03-01T12:00:09.625456Z",
     "iopub.status.idle": "2025-03-01T12:00:09.632898Z",
     "shell.execute_reply": "2025-03-01T12:00:09.631327Z",
     "shell.execute_reply.started": "2025-03-01T12:00:09.625802Z"
    },
    "trusted": true
   },
   "outputs": [
    {
     "data": {
      "text/plain": [
       "Index(['age', 'sex', 'chest_pain_type', 'resting_bp', 'cholestoral',\n",
       "       'fasting_blood_sugar', 'restecg', 'max_hr', 'exang', 'oldpeak', 'slope',\n",
       "       'num_major_vessels', 'thal', 'target'],\n",
       "      dtype='object')"
      ]
     },
     "execution_count": 110,
     "metadata": {},
     "output_type": "execute_result"
    }
   ],
   "source": [
    "df.columns"
   ]
  },
  {
   "cell_type": "code",
   "execution_count": null,
   "metadata": {
    "trusted": true
   },
   "outputs": [],
   "source": []
  }
 ],
 "metadata": {
  "kaggle": {
   "accelerator": "none",
   "dataSources": [
    {
     "datasetId": 2827380,
     "sourceId": 4876162,
     "sourceType": "datasetVersion"
    }
   ],
   "dockerImageVersionId": 30918,
   "isGpuEnabled": false,
   "isInternetEnabled": true,
   "language": "python",
   "sourceType": "notebook"
  },
  "kernelspec": {
   "display_name": "Python 3",
   "language": "python",
   "name": "python3"
  },
  "language_info": {
   "codemirror_mode": {
    "name": "ipython",
    "version": 3
   },
   "file_extension": ".py",
   "mimetype": "text/x-python",
   "name": "python",
   "nbconvert_exporter": "python",
   "pygments_lexer": "ipython3",
   "version": "3.12.3"
  }
 },
 "nbformat": 4,
 "nbformat_minor": 4
}
